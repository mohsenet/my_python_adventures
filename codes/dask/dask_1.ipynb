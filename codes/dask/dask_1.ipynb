{
 "cells": [
  {
   "cell_type": "code",
   "execution_count": 1,
   "id": "ccd4fe84-7333-4d79-b239-fb56df20dca5",
   "metadata": {},
   "outputs": [],
   "source": [
    "import dask.dataframe as dd\n",
    "import pandas as pd\n",
    "\n",
    "def cox(dic_1):\n",
    "    dask_dd = dd.from_pandas(pd.DataFrame(dic_1, index=[0]), npartitions=1)\n",
    "    \n",
    "    dask_dd['dd'] = dd.to_datetime(dask_dd['tx'], format='%d-%b-%y').dt.strftime('%Y%m%d')\n",
    "    dask_dd['tx'] = dd.to_datetime(dask_dd['tx'], format='%d-%b-%y').dt.strftime('%Y-%m-%d')\n",
    "    dask_dd['td'] = dask_dd['time']\n",
    "    dask_dd['tx'] = dask_dd['tx'] + \"T\" + dask_dd['time']\n",
    "    \n",
    "    result = dask_dd.compute().to_dict(orient='records')[0]\n",
    "    return result"
   ]
  },
  {
   "cell_type": "code",
   "execution_count": null,
   "id": "b1cf8c64-1d6b-4693-881c-41a88362dd9d",
   "metadata": {},
   "outputs": [],
   "source": []
  }
 ],
 "metadata": {
  "kernelspec": {
   "display_name": "Python 3 (ipykernel)",
   "language": "python",
   "name": "python3"
  },
  "language_info": {
   "codemirror_mode": {
    "name": "ipython",
    "version": 3
   },
   "file_extension": ".py",
   "mimetype": "text/x-python",
   "name": "python",
   "nbconvert_exporter": "python",
   "pygments_lexer": "ipython3",
   "version": "3.10.12"
  }
 },
 "nbformat": 4,
 "nbformat_minor": 5
}
