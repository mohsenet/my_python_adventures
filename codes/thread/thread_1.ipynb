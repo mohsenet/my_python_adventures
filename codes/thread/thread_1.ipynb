{
 "cells": [
  {
   "cell_type": "code",
   "execution_count": 1,
   "id": "18e2cbd9-d95a-4ca9-ac8b-38cac262c021",
   "metadata": {},
   "outputs": [],
   "source": [
    "import os\n",
    "import threading\n",
    "import time"
   ]
  },
  {
   "cell_type": "code",
   "execution_count": 2,
   "id": "95baf86e-a837-4c37-bb48-42519fa3dd3a",
   "metadata": {},
   "outputs": [],
   "source": [
    "lock = threading.Lock()"
   ]
  },
  {
   "cell_type": "code",
   "execution_count": 3,
   "id": "f9912192-a816-46ef-abbe-95007d1c5dad",
   "metadata": {},
   "outputs": [
    {
     "data": {
      "text/plain": [
       "'/home/mohsen/frr/polar/codes/thread'"
      ]
     },
     "execution_count": 3,
     "metadata": {},
     "output_type": "execute_result"
    }
   ],
   "source": [
    "BASE_DIR = os.getcwd()\n",
    "BASE_DIR"
   ]
  },
  {
   "cell_type": "code",
   "execution_count": 4,
   "id": "8419dd57-4afe-4fc8-8fc3-603395b5f582",
   "metadata": {},
   "outputs": [
    {
     "data": {
      "text/plain": [
       "'/home/mohsen/frr/polar/codes/thread/info.txt'"
      ]
     },
     "execution_count": 4,
     "metadata": {},
     "output_type": "execute_result"
    }
   ],
   "source": [
    "os.path.join(BASE_DIR, \"info.txt\")"
   ]
  },
  {
   "cell_type": "code",
   "execution_count": 5,
   "id": "43693074-198e-4b50-a417-2a887aa98829",
   "metadata": {},
   "outputs": [],
   "source": [
    "def file_write(data, mode):\n",
    "    with open(os.path.join(BASE_DIR, \"info.txt\"), mode) as f:\n",
    "        f.write(data + \"\\n\")"
   ]
  },
  {
   "cell_type": "code",
   "execution_count": 6,
   "id": "b349210e-1220-4e40-a020-2ec3b9a32bec",
   "metadata": {},
   "outputs": [],
   "source": [
    "def loop_1(range_val):\n",
    "    for i in range(range_val):\n",
    "        print(i)\n",
    "        time.sleep(2)\n",
    "        # file_write(\"Guilds_\", \"a\")\n",
    "        \n",
    "def loop_2(range_val):\n",
    "    for i in range(range_val):\n",
    "        print(i*10)\n",
    "        time.sleep(5)\n",
    "        # file_write(\"Guilds_\", \"a\")"
   ]
  },
  {
   "cell_type": "code",
   "execution_count": 7,
   "id": "1e8cfe5a-6664-4a87-bac3-4e981cde33a4",
   "metadata": {},
   "outputs": [],
   "source": [
    "def l_th1():\n",
    "    with lock:\n",
    "        loop_1(4)\n",
    "    x = threading.Timer(10, l_th1)\n",
    "    x.start()"
   ]
  },
  {
   "cell_type": "code",
   "execution_count": 8,
   "id": "59d22741-2924-4d77-961b-69ad1dd969f9",
   "metadata": {},
   "outputs": [],
   "source": [
    "def l_th2():\n",
    "    with lock:\n",
    "        loop_2(4)\n",
    "    x = threading.Timer(3, l_th2)\n",
    "    x.start()"
   ]
  },
  {
   "cell_type": "code",
   "execution_count": 9,
   "id": "41eb330b-f9f0-4db8-b4ff-9bc7c487ca38",
   "metadata": {},
   "outputs": [
    {
     "name": "stdout",
     "output_type": "stream",
     "text": [
      "0\n",
      "1\n",
      "2\n",
      "3\n",
      "0\n",
      "1\n",
      "2\n",
      "3\n",
      "0\n",
      "1\n",
      "2\n",
      "3\n",
      "0\n",
      "1\n",
      "2\n"
     ]
    }
   ],
   "source": [
    "l_th1()"
   ]
  },
  {
   "cell_type": "code",
   "execution_count": 10,
   "id": "a5c5015e-6189-428b-9358-d2106c6342f6",
   "metadata": {},
   "outputs": [
    {
     "name": "stdout",
     "output_type": "stream",
     "text": [
      "3\n",
      "0\n",
      "10\n",
      "20\n",
      "30\n",
      "0\n",
      "1\n",
      "2\n",
      "3\n",
      "0\n",
      "10\n",
      "20\n",
      "30\n",
      "0\n",
      "1\n",
      "2\n",
      "3\n"
     ]
    }
   ],
   "source": [
    "l_th2()"
   ]
  },
  {
   "cell_type": "code",
   "execution_count": 1,
   "id": "225f8de4-e3fc-4448-8d1c-be93c2f11de0",
   "metadata": {},
   "outputs": [
    {
     "data": {
      "text/plain": [
       "108"
      ]
     },
     "execution_count": 1,
     "metadata": {},
     "output_type": "execute_result"
    }
   ],
   "source": [
    "6*18"
   ]
  },
  {
   "cell_type": "code",
   "execution_count": null,
   "id": "acf367b3-7e6d-4fa2-89c5-b3fa0fd9c2cf",
   "metadata": {},
   "outputs": [],
   "source": []
  }
 ],
 "metadata": {
  "kernelspec": {
   "display_name": "Python 3 (ipykernel)",
   "language": "python",
   "name": "python3"
  },
  "language_info": {
   "codemirror_mode": {
    "name": "ipython",
    "version": 3
   },
   "file_extension": ".py",
   "mimetype": "text/x-python",
   "name": "python",
   "nbconvert_exporter": "python",
   "pygments_lexer": "ipython3",
   "version": "3.10.12"
  }
 },
 "nbformat": 4,
 "nbformat_minor": 5
}
