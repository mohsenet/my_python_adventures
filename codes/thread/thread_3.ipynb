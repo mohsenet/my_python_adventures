{
 "cells": [
  {
   "cell_type": "markdown",
   "id": "86abe2e8-08f7-48a2-9e4c-9eec0c2a591b",
   "metadata": {},
   "source": [
    "### threading.Event()"
   ]
  },
  {
   "cell_type": "code",
   "execution_count": 1,
   "id": "c885eead-09a4-40d4-af2a-ee4d52176d03",
   "metadata": {},
   "outputs": [],
   "source": [
    "import threading"
   ]
  },
  {
   "cell_type": "code",
   "execution_count": 14,
   "id": "e01e071c-1627-4a44-8ade-3114a52963fa",
   "metadata": {},
   "outputs": [],
   "source": [
    "t_is_alive = threading.Event()\n",
    "\n",
    "def start_thread_every():\n",
    "    # Your code here\n",
    "    t_is_alive.set()\n",
    "\n",
    "def thread_is_alive():\n",
    "    return t_is_alive.is_set()"
   ]
  },
  {
   "cell_type": "code",
   "execution_count": 18,
   "id": "6222fee5-c9f4-48f1-95ff-727f6aaf2a3f",
   "metadata": {},
   "outputs": [
    {
     "name": "stdout",
     "output_type": "stream",
     "text": [
      "alive\n"
     ]
    }
   ],
   "source": [
    "start_thread_every()\n",
    "if thread_is_alive():\n",
    "    print('alive')"
   ]
  },
  {
   "cell_type": "code",
   "execution_count": 7,
   "id": "3c5e064c-93e7-47d0-8fe2-cdbd2ef4a304",
   "metadata": {},
   "outputs": [],
   "source": [
    "t_is_alive = threading.Event()"
   ]
  },
  {
   "cell_type": "code",
   "execution_count": 9,
   "id": "5dbd3541-612c-43a6-ad0c-7a2d3efcdd58",
   "metadata": {},
   "outputs": [],
   "source": [
    "t_is_alive.set()"
   ]
  },
  {
   "cell_type": "code",
   "execution_count": 10,
   "id": "9807aebe-3497-48ea-ad73-6329b43694e5",
   "metadata": {},
   "outputs": [
    {
     "data": {
      "text/plain": [
       "True"
      ]
     },
     "execution_count": 10,
     "metadata": {},
     "output_type": "execute_result"
    }
   ],
   "source": [
    "t_is_alive.is_set()"
   ]
  },
  {
   "cell_type": "markdown",
   "id": "663d9bd1-4fee-4e05-9f7c-050be06e4c14",
   "metadata": {},
   "source": [
    "### Another sample\n",
    "Avalable send signal to two thread"
   ]
  },
  {
   "cell_type": "code",
   "execution_count": 23,
   "id": "13157c43-3d84-475e-b3c9-bfd258ba07f3",
   "metadata": {},
   "outputs": [
    {
     "name": "stdout",
     "output_type": "stream",
     "text": [
      "Thread 1 started. Waiting for the signal...\n",
      "Thread 2 started. Waiting for the signal...\n"
     ]
    }
   ],
   "source": [
    "from threading import Thread, Event\n",
    "from time import sleep\n",
    "\n",
    "def task(event: Event, id: int) -> None:\n",
    "    print(f'Thread {id} started. Waiting for the signal...')\n",
    "    event.wait()\n",
    "    print(f'Received signal. The thread {id} was completed.')\n",
    "\n",
    "\n",
    "event = Event()\n",
    "t1 = Thread(target=task, args=(event, 1))\n",
    "t2 = Thread(target=task, args=(event, 2))\n",
    "t1.start()\n",
    "t2.start()\n",
    "sleep(3)  # Block the main thread for three seconds\n",
    "# event.set()  # Notify the threads to continue"
   ]
  },
  {
   "cell_type": "code",
   "execution_count": 30,
   "id": "bb1b49ac-c85d-4cef-84da-4fdb1d93dfcd",
   "metadata": {},
   "outputs": [
    {
     "data": {
      "text/plain": [
       "False"
      ]
     },
     "execution_count": 30,
     "metadata": {},
     "output_type": "execute_result"
    }
   ],
   "source": [
    "t1.is_alive()"
   ]
  },
  {
   "cell_type": "code",
   "execution_count": 31,
   "id": "33fc9ece-1169-453f-b1d1-1fa49e4e8911",
   "metadata": {},
   "outputs": [
    {
     "data": {
      "text/plain": [
       "False"
      ]
     },
     "execution_count": 31,
     "metadata": {},
     "output_type": "execute_result"
    }
   ],
   "source": [
    "t2.is_alive()"
   ]
  },
  {
   "cell_type": "code",
   "execution_count": 29,
   "id": "ffe434e5-a5f5-4e5e-9b84-98a78ae6a07a",
   "metadata": {},
   "outputs": [
    {
     "name": "stdout",
     "output_type": "stream",
     "text": [
      "Received signal. The thread 1 was completed.\n",
      "Received signal. The thread 2 was completed.\n"
     ]
    }
   ],
   "source": [
    "event.set()"
   ]
  },
  {
   "cell_type": "markdown",
   "id": "14a72177-3393-4349-aeb9-1575cc278b66",
   "metadata": {},
   "source": [
    "### Controllable thread"
   ]
  },
  {
   "cell_type": "code",
   "execution_count": 1,
   "id": "2858b5e1-f98c-4ba8-b616-964f3c95df98",
   "metadata": {},
   "outputs": [
    {
     "name": "stdout",
     "output_type": "stream",
     "text": [
      "Thread 1 started. Waiting for the signal...\n",
      "Thread 2 started. Waiting for the signal...\n"
     ]
    }
   ],
   "source": [
    "from threading import Thread, Event\n",
    "from time import sleep\n",
    "\n",
    "def task(event: Event, id: int) -> None:\n",
    "    print(f'Thread {id} started. Waiting for the signal...')\n",
    "    event.wait()\n",
    "    for i in range(0, 100):\n",
    "        if event.is_set():\n",
    "            print(f'Received signal. The thread {id} was completed at {i}.')\n",
    "            sleep(2)\n",
    "            event.clear()\n",
    "            event.wait()\n",
    "\n",
    "\n",
    "event1 = Event()\n",
    "event2 = Event()\n",
    "t1 = Thread(target=task, args=(event1, 1))\n",
    "t2 = Thread(target=task, args=(event2, 2))\n",
    "t1.start()\n",
    "t2.start()\n",
    "sleep(3)"
   ]
  },
  {
   "cell_type": "code",
   "execution_count": 2,
   "id": "36aac640-16cb-4133-9d6e-ad413852188e",
   "metadata": {},
   "outputs": [
    {
     "data": {
      "text/plain": [
       "True"
      ]
     },
     "execution_count": 2,
     "metadata": {},
     "output_type": "execute_result"
    }
   ],
   "source": [
    "t1.is_alive()"
   ]
  },
  {
   "cell_type": "code",
   "execution_count": 3,
   "id": "f7bf094e-d75b-4062-a3dd-f180c9fca36f",
   "metadata": {},
   "outputs": [
    {
     "data": {
      "text/plain": [
       "True"
      ]
     },
     "execution_count": 3,
     "metadata": {},
     "output_type": "execute_result"
    }
   ],
   "source": [
    "t2.is_alive()"
   ]
  },
  {
   "cell_type": "code",
   "execution_count": 4,
   "id": "8aa811bc-0988-43df-9227-30bf91a5f088",
   "metadata": {},
   "outputs": [],
   "source": [
    "# event1.set()\n",
    "# event2.set()"
   ]
  },
  {
   "cell_type": "code",
   "execution_count": 25,
   "id": "a7338f38-47c4-4cca-9afd-9f34c2710840",
   "metadata": {},
   "outputs": [
    {
     "name": "stdout",
     "output_type": "stream",
     "text": [
      "Received signal. The thread 1 was completed at 12.\n"
     ]
    }
   ],
   "source": [
    "# After run imedietly goes to wait ==== until 100 times\n",
    "event1.set()"
   ]
  },
  {
   "cell_type": "code",
   "execution_count": null,
   "id": "0134f137-b6b0-4bca-b131-bc3e3e7aa150",
   "metadata": {},
   "outputs": [],
   "source": []
  }
 ],
 "metadata": {
  "kernelspec": {
   "display_name": "Python 3 (ipykernel)",
   "language": "python",
   "name": "python3"
  },
  "language_info": {
   "codemirror_mode": {
    "name": "ipython",
    "version": 3
   },
   "file_extension": ".py",
   "mimetype": "text/x-python",
   "name": "python",
   "nbconvert_exporter": "python",
   "pygments_lexer": "ipython3",
   "version": "3.10.12"
  }
 },
 "nbformat": 4,
 "nbformat_minor": 5
}
