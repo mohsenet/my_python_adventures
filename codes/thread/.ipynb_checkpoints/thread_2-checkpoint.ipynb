{
 "cells": [
  {
   "cell_type": "markdown",
   "id": "192f8335-f6b8-4c00-84b8-738dba822314",
   "metadata": {
    "jp-MarkdownHeadingCollapsed": true
   },
   "source": [
    "### Thead"
   ]
  },
  {
   "cell_type": "code",
   "execution_count": 1,
   "id": "1caac8af-ff1b-4508-aebf-98e134ec9f98",
   "metadata": {},
   "outputs": [],
   "source": [
    "# use function pointer to manage thread:  ==>  **_my_function\n",
    "def my_function(n):\n",
    "    \"\"\"Target function for the thread.\"\"\"\n",
    "    for i in range(n):\n",
    "        # print(\"Running...\")\n",
    "        time.sleep(1)"
   ]
  },
  {
   "cell_type": "code",
   "execution_count": 2,
   "id": "e69f59f4-41e2-492b-bd26-1ae7717d8bff",
   "metadata": {},
   "outputs": [],
   "source": [
    "import threading\n",
    "import time\n",
    "\n",
    "import sys\n",
    "sys.path.append('/home/mohsen/frr/polar/codes/classes')\n",
    "from color_text import ColorText\n",
    "from time_util import TimeUtil\n",
    "\n",
    "            \n",
    "# TODO: how to array function into the list in\n",
    "class ThreadJob():\n",
    "    \"\"\"\n",
    "    To use this thread, follow the next step:\n",
    "\n",
    "    # Run thread immediately\n",
    "    # 10 ==> input parameter of function\n",
    "    x = ThreadJob(my_function, 'my_function', 10, \"/path/to/file.txt\")\n",
    "\n",
    "    # Start show thread\n",
    "    x.show_thread_in_file()\n",
    "\n",
    "    # Stop show thread\n",
    "    x.write_to_file_thread_status = False\n",
    "    \"\"\"\n",
    "    \n",
    "    def __init__(self, func, func_name, func_input_value, path_thread_log):\n",
    "\n",
    "        self.func = func\n",
    "        self.thread = threading.Thread(target=self._run_func, args=(func_input_value,))\n",
    "        self.thread.start()\n",
    "\n",
    "        self.thread.name = func_name\n",
    "        self.name = self.thread.name\n",
    "        self.id = self.thread.ident\n",
    "        self.write_to_file_thread_status = False\n",
    "        self.path_thread_log = path_thread_log    \n",
    "\n",
    "    def _run_func(self, func_input_value):\n",
    "        \"\"\"Runs the func function with the provided func_input_value in a background thread\"\"\"\n",
    "        self.func(func_input_value)    \n",
    "        \n",
    "    def _write_to_file(self):\n",
    "        with open(self.path_thread_log, \"w\") as f:\n",
    "            f.write(self.__str__())\n",
    "\n",
    "    def _thread_write_to_file(self):\n",
    "        while self.write_to_file_thread_status:\n",
    "            self._write_to_file()\n",
    "            time.sleep(1)        \n",
    "    \n",
    "    def show_thread_in_file(self):\n",
    "        # Runs only once\n",
    "        # To start the thread, you need to call this method once.\n",
    "        \n",
    "        self.write_to_file_thread_status = True\n",
    "\n",
    "        thread_signal = threading.Thread(target=self._thread_write_to_file)\n",
    "        thread_signal.start()\n",
    "            \n",
    "    def __str__(self):\n",
    "        # Makes the thread info\n",
    "        \n",
    "        info =  'Name:      ' + str(self.name)              + \"\\n\"\n",
    "        info += 'ID:        ' + str(self.id)                + \"\\n\"\n",
    "\n",
    "        # Makes the text colored\n",
    "        # [32] => it's grean color\n",
    "        x = ColorText('is_alive:  ' + str(self.thread.is_alive()), [32], )\n",
    "        info += x.__str__()\n",
    "\n",
    "        x = TimeUtil()\n",
    "        info += x.miladi_str\n",
    "        \n",
    "        return info"
   ]
  },
  {
   "cell_type": "code",
   "execution_count": 3,
   "id": "8aacec48-2926-4db5-94a9-077d1c2194db",
   "metadata": {},
   "outputs": [],
   "source": [
    "# Run thread immediately\n",
    "x = ThreadJob(my_function, 'my_function', 10, \"/home/mohsen/frr/polar/codes/thread/thread_write.txt\")"
   ]
  },
  {
   "cell_type": "code",
   "execution_count": 4,
   "id": "ec7dc712-4e4b-4aad-9bf4-293cf730c50e",
   "metadata": {},
   "outputs": [],
   "source": [
    "# Start show thread\n",
    "x.show_thread_in_file()"
   ]
  },
  {
   "cell_type": "code",
   "execution_count": 5,
   "id": "e3c92ea5-0321-4c6d-b820-7df586d88305",
   "metadata": {},
   "outputs": [],
   "source": [
    "# Stop show thread\n",
    "x.write_to_file_thread_status = False"
   ]
  },
  {
   "cell_type": "markdown",
   "id": "5f90998b-bd95-4ac4-9dc7-90b8123d0fef",
   "metadata": {
    "jp-MarkdownHeadingCollapsed": true
   },
   "source": [
    "### Thread improvement"
   ]
  },
  {
   "cell_type": "raw",
   "id": "4264bc6b-ad72-40d2-afb7-a09fab87fabf",
   "metadata": {},
   "source": [
    "I have the following code for controlling the thread. Do you have any suggestions for improving it?\n",
    "------------------------------------\n",
    "Here are some suggestions for improving your code:\n",
    "\n",
    "1- Use a context manager when creating threads to ensure that they are properly cleaned up even if an exception occurs. This can be done using the with statement and the threading.Thread class's join method. For example:\n",
    "\n",
    "with threading.Thread(target=self._my_function, args=(time,)) as t:\n",
    "    t.start()\n",
    "    ...\n",
    "t.join()"
   ]
  },
  {
   "cell_type": "markdown",
   "id": "2f29101c-a95d-4849-9500-3a21716a0994",
   "metadata": {},
   "source": [
    "Yes, here are some technical tips for controlling threads in Python:\n",
    "\n",
    "    Use threading primitives: To synchronize access to shared resources or coordinate between multiple threads, use threading primitives such as locks, semaphores, events, and condition variables. These provide low-level mechanisms for ensuring mutual exclusion, signaling between threads, and waiting for specific conditions to occur.\n",
    "\n",
    "    Avoid blocking calls: Blocking calls can prevent other threads from executing, leading to poor performance and unpredictable behavior. Whenever possible, avoid making blocking calls inside critical sections or loops that need to respond quickly to changes in state.\n",
    "\n",
    "    Limit the number of threads: Creating too many threads can lead to resource contention, increased overhead, and decreased overall throughput. As a rule of thumb, aim to limit the number of concurrently running threads to match the number of CPU cores available on the system. You can use tools like os.cpu_count() to determine the optimal number of threads dynamically.\n",
    "\n",
    "    Monitor thread health: Regularly check the health of your threads by calling their is_alive() method or monitoring relevant attributes like exit codes or stack traces. This can help you detect issues early and take corrective action before they become serious problems.\n",
    "\n",
    "    Implement graceful shutdown: When terminating a program, make sure to implement a graceful shutdown mechanism that allows all threads to complete their work and release any acquired resources before exiting. Failing to do so can result in data corruption, inconsistent state, orphaned processes, and other unexpected behaviors.\n",
    "\n",
    "    Test thoroughly: Test your multithreaded programs extensively under various loads and scenarios to identify potential race conditions, deadlocks, livelocks, and other concurrency bugs. Make sure to test both positive cases (expected usage patterns) and negative cases (unusual or erroneous inputs).\n",
    "\n",
    "    Profile and optimize: Profile your multithreaded applications to identify bottlenecks, hotspots, and areas for optimization. Use profiling tools like cProfile, PySnooper, or line_profiler to gather detailed statistics about execution times, memory usage, and other metrics. Based on the results, apply appropriate optimization techniques such as refactoring, memoization, caching, or parallelism.\n",
    "\n",
    "    Consider alternative approaches: Depending on the problem domain and requirements, consider alternative approaches to multithreading such as multiprocessing, asyncio, gevent, or eventlet. Each approach has its own strengths and weaknesses, and choosing the right one requires careful consideration of factors like scalability, responsiveness, complexity, and maintainability.\n"
   ]
  },
  {
   "cell_type": "markdown",
   "id": "30c71aab-6104-4e5f-b3c7-d9072aafb0cf",
   "metadata": {
    "jp-MarkdownHeadingCollapsed": true
   },
   "source": [
    "### Note"
   ]
  },
  {
   "cell_type": "code",
   "execution_count": 1,
   "id": "126066c6-9550-4470-a28c-65a539f59174",
   "metadata": {},
   "outputs": [
    {
     "ename": "TypeError",
     "evalue": "Timer.__init__() got an unexpected keyword argument 'target'",
     "output_type": "error",
     "traceback": [
      "\u001b[0;31m---------------------------------------------------------------------------\u001b[0m",
      "\u001b[0;31mTypeError\u001b[0m                                 Traceback (most recent call last)",
      "Cell \u001b[0;32mIn[1], line 23\u001b[0m\n\u001b[1;32m     19\u001b[0m         info \u001b[38;5;241m=\u001b[39m \u001b[38;5;124m'\u001b[39m\u001b[38;5;124mName:\u001b[39m\u001b[38;5;124m'\u001b[39m\n\u001b[1;32m     20\u001b[0m         \u001b[38;5;28;01mreturn\u001b[39;00m info\n\u001b[0;32m---> 23\u001b[0m x \u001b[38;5;241m=\u001b[39m \u001b[43mThreadJob\u001b[49m\u001b[43m(\u001b[49m\u001b[43mfunc1\u001b[49m\u001b[43m,\u001b[49m\u001b[43m \u001b[49m\u001b[38;5;241;43m5\u001b[39;49m\u001b[43m)\u001b[49m\n",
      "Cell \u001b[0;32mIn[1], line 12\u001b[0m, in \u001b[0;36mThreadJob.__init__\u001b[0;34m(self, func, func_input_value)\u001b[0m\n\u001b[1;32m     10\u001b[0m \u001b[38;5;28;01mdef\u001b[39;00m \u001b[38;5;21m__init__\u001b[39m(\u001b[38;5;28mself\u001b[39m, func, func_input_value):\n\u001b[1;32m     11\u001b[0m     \u001b[38;5;28mself\u001b[39m\u001b[38;5;241m.\u001b[39mfunc \u001b[38;5;241m=\u001b[39m func\n\u001b[0;32m---> 12\u001b[0m     \u001b[38;5;28mself\u001b[39m\u001b[38;5;241m.\u001b[39mthread \u001b[38;5;241m=\u001b[39m \u001b[43mthreading\u001b[49m\u001b[38;5;241;43m.\u001b[39;49m\u001b[43mTimer\u001b[49m\u001b[43m(\u001b[49m\u001b[43mtarget\u001b[49m\u001b[38;5;241;43m=\u001b[39;49m\u001b[38;5;28;43mself\u001b[39;49m\u001b[38;5;241;43m.\u001b[39;49m\u001b[43m_run_func\u001b[49m\u001b[43m,\u001b[49m\u001b[43m \u001b[49m\u001b[43margs\u001b[49m\u001b[38;5;241;43m=\u001b[39;49m\u001b[43m(\u001b[49m\u001b[43mfunc_input_value\u001b[49m\u001b[43m,\u001b[49m\u001b[43m)\u001b[49m\u001b[43m)\u001b[49m\n\u001b[1;32m     13\u001b[0m     \u001b[38;5;28mself\u001b[39m\u001b[38;5;241m.\u001b[39mthread\u001b[38;5;241m.\u001b[39mstart()\n",
      "\u001b[0;31mTypeError\u001b[0m: Timer.__init__() got an unexpected keyword argument 'target'"
     ]
    }
   ],
   "source": [
    "import threading\n",
    "import time\n",
    "\n",
    "def func1(number):\n",
    "    for i in range(1, number):\n",
    "        print(\"...!\")\n",
    "        time.sleep(1)\n",
    "\n",
    "class ThreadJob():\n",
    "    def __init__(self, func, func_input_value):\n",
    "        self.func = func\n",
    "        self.thread = threading.Timer(target=self._run_func, args=(func_input_value,))\n",
    "        self.thread.start()  \n",
    "\n",
    "    def _run_func(self, func_input_value):\n",
    "        self.func(func_input_value)    \n",
    "            \n",
    "    def __str__(self):       \n",
    "        info = 'Name:'\n",
    "        return info\n",
    "\n",
    "\n",
    "x = ThreadJob(func1, 5)"
   ]
  },
  {
   "cell_type": "code",
   "execution_count": 1,
   "id": "ef801ca2-b832-442f-b11a-f994802c983e",
   "metadata": {},
   "outputs": [
    {
     "name": "stdout",
     "output_type": "stream",
     "text": [
      "...!\n",
      "...!\n"
     ]
    }
   ],
   "source": [
    "import threading\n",
    "import time\n",
    "lock = threading.Lock()\n",
    "\n",
    "def func1(number):\n",
    "    with lock:\n",
    "        for i in range(1, number):\n",
    "            print(\"...!\")\n",
    "            time.sleep(1)\n",
    "        \n",
    "    tr_1 = threading.Timer(10, func1, args=(3,))\n",
    "    tr_1.start()\n",
    "\n",
    "\n",
    "func1(3)"
   ]
  },
  {
   "cell_type": "code",
   "execution_count": 1,
   "id": "9e2b2ddd-5a24-43d4-a68d-167be9863e26",
   "metadata": {},
   "outputs": [],
   "source": [
    "# threading.event.wait()"
   ]
  },
  {
   "cell_type": "code",
   "execution_count": 1,
   "id": "98e1a23f-c233-4ecb-a72c-42b63f2ff4a6",
   "metadata": {},
   "outputs": [
    {
     "name": "stdout",
     "output_type": "stream",
     "text": [
      "...!\n",
      "...!\n"
     ]
    }
   ],
   "source": [
    "import threading\n",
    "import time\n",
    "\n",
    "lock = threading.Lock()\n",
    "timer = None\n",
    "\n",
    "def func1(number):\n",
    "    global timer\n",
    "    \n",
    "    with lock:\n",
    "        for i in range(1, number):\n",
    "            print(\"...!\")\n",
    "            time.sleep(1)\n",
    "\n",
    "    # Create a new timer object and update the global variable\n",
    "    timer = threading.Timer(10, func1, args=(3,))\n",
    "    timer.start()\n",
    "\n",
    "# Start the initial call to func1\n",
    "func1(3)"
   ]
  },
  {
   "cell_type": "code",
   "execution_count": 1,
   "id": "dafa5107-58e3-4af6-b196-e1fa4df4dee4",
   "metadata": {},
   "outputs": [],
   "source": [
    "import threading\n",
    "import time\n",
    "\n",
    "lock = threading.Lock()\n",
    "timer = None\n",
    "\n",
    "def func1(number):\n",
    "    for i in range(1, number):\n",
    "        print(\"...!\")\n",
    "        time.sleep(1)\n",
    "\n",
    "class ThreadJob():\n",
    "    def __init__(self, repeat_period, func, func_input_value):\n",
    "        self.func = func\n",
    "        self.timer = threading.Timer(repeat_period, self._run_func, args=(func_input_value,))\n",
    "        self.timer.start()\n",
    "\n",
    "    def _run_func(self, func_input_value):\n",
    "        while True:\n",
    "            self.func(func_input_value)\n",
    "            time.sleep(10)\n",
    "\n",
    "    def __str__(self):\n",
    "        info = 'Name:'\n",
    "        return info\n",
    "\n",
    "x = ThreadJob(10, func1, 3)\n",
    "\n",
    "\n",
    "time.sleep(1)  # Add a delay to ensure the timer has started\n",
    "x.timer.cancel()"
   ]
  },
  {
   "cell_type": "code",
   "execution_count": 2,
   "id": "66218d5f-4575-421b-a971-c7fffd676b2d",
   "metadata": {},
   "outputs": [
    {
     "name": "stdout",
     "output_type": "stream",
     "text": [
      "...!\n",
      "...!\n"
     ]
    }
   ],
   "source": [
    "x.timer.is_alive()\n",
    "time.sleep(1)  # Add a delay to ensure the timer has started\n",
    "x.timer.cancel()"
   ]
  },
  {
   "cell_type": "code",
   "execution_count": 1,
   "id": "e04a0850-a53e-49f2-8788-67fe2e50c44f",
   "metadata": {},
   "outputs": [],
   "source": [
    "import threading\n",
    "import time\n",
    "\n",
    "class ThreadJob():\n",
    "    def __init__(self, repeat_period, func, func_input_value):\n",
    "        self.func = func\n",
    "        self.repeat_period = repeat_period\n",
    "        self.func_input_value = func_input_value\n",
    "        self.timer = None\n",
    "        self.stop_thread = False\n",
    "\n",
    "    def start(self):\n",
    "        self.stop_thread = False\n",
    "        self.timer = threading.Timer(self.repeat_period, self._run_func)\n",
    "        self.timer.start()\n",
    "\n",
    "    def _run_func(self):\n",
    "        while not self.stop_thread:\n",
    "            self.func(self.func_input_value)\n",
    "            time.sleep(self.repeat_period)\n",
    "\n",
    "    def stop(self):\n",
    "        self.stop_thread = True\n",
    "        if self.timer is not None:\n",
    "            self.timer.cancel()\n",
    "\n",
    "def func1(number):\n",
    "    for i in range(1, number):\n",
    "        print(\"...!\")\n",
    "        time.sleep(1)\n",
    "\n",
    "x = ThreadJob(10, func1, 3)\n",
    "x.start()\n",
    "\n",
    "# time.sleep(1)  # Add a delay to ensure the timer has started\n",
    "# x.stop()"
   ]
  },
  {
   "cell_type": "code",
   "execution_count": 2,
   "id": "3af14313-f3d1-4b98-b367-289c0381affc",
   "metadata": {},
   "outputs": [
    {
     "data": {
      "text/plain": [
       "True"
      ]
     },
     "execution_count": 2,
     "metadata": {},
     "output_type": "execute_result"
    },
    {
     "name": "stdout",
     "output_type": "stream",
     "text": [
      "...!\n",
      "...!\n",
      "...!\n",
      "...!\n",
      "...!\n",
      "...!\n"
     ]
    }
   ],
   "source": [
    "x.timer.is_alive()"
   ]
  },
  {
   "cell_type": "code",
   "execution_count": 3,
   "id": "dae51f8b-ae7b-4ba0-9934-307b1f596fb8",
   "metadata": {},
   "outputs": [],
   "source": [
    "time.sleep(1)  # Add a delay to ensure the timer has started\n",
    "x.stop()"
   ]
  },
  {
   "cell_type": "code",
   "execution_count": 4,
   "id": "77906cf2-6e10-453a-ac30-b04da1538931",
   "metadata": {},
   "outputs": [
    {
     "data": {
      "text/plain": [
       "False"
      ]
     },
     "execution_count": 4,
     "metadata": {},
     "output_type": "execute_result"
    }
   ],
   "source": [
    "x.timer.is_alive()"
   ]
  },
  {
   "cell_type": "code",
   "execution_count": null,
   "id": "da90a30c-b8a5-458a-970c-812330351755",
   "metadata": {},
   "outputs": [],
   "source": []
  }
 ],
 "metadata": {
  "kernelspec": {
   "display_name": "Python 3 (ipykernel)",
   "language": "python",
   "name": "python3"
  },
  "language_info": {
   "codemirror_mode": {
    "name": "ipython",
    "version": 3
   },
   "file_extension": ".py",
   "mimetype": "text/x-python",
   "name": "python",
   "nbconvert_exporter": "python",
   "pygments_lexer": "ipython3",
   "version": "3.10.12"
  }
 },
 "nbformat": 4,
 "nbformat_minor": 5
}
