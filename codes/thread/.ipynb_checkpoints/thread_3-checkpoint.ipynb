{
 "cells": [
  {
   "cell_type": "markdown",
   "id": "86abe2e8-08f7-48a2-9e4c-9eec0c2a591b",
   "metadata": {},
   "source": [
    "### threading.Event()"
   ]
  },
  {
   "cell_type": "code",
   "execution_count": 1,
   "id": "c885eead-09a4-40d4-af2a-ee4d52176d03",
   "metadata": {},
   "outputs": [],
   "source": [
    "import threading"
   ]
  },
  {
   "cell_type": "code",
   "execution_count": 14,
   "id": "e01e071c-1627-4a44-8ade-3114a52963fa",
   "metadata": {},
   "outputs": [],
   "source": [
    "t_is_alive = threading.Event()\n",
    "\n",
    "def start_thread_every():\n",
    "    # Your code here\n",
    "    t_is_alive.set()\n",
    "\n",
    "def thread_is_alive():\n",
    "    return t_is_alive.is_set()"
   ]
  },
  {
   "cell_type": "code",
   "execution_count": 18,
   "id": "6222fee5-c9f4-48f1-95ff-727f6aaf2a3f",
   "metadata": {},
   "outputs": [
    {
     "name": "stdout",
     "output_type": "stream",
     "text": [
      "alive\n"
     ]
    }
   ],
   "source": [
    "start_thread_every()\n",
    "if thread_is_alive():\n",
    "    print('alive')"
   ]
  },
  {
   "cell_type": "code",
   "execution_count": 7,
   "id": "3c5e064c-93e7-47d0-8fe2-cdbd2ef4a304",
   "metadata": {},
   "outputs": [],
   "source": [
    "t_is_alive = threading.Event()"
   ]
  },
  {
   "cell_type": "code",
   "execution_count": 9,
   "id": "5dbd3541-612c-43a6-ad0c-7a2d3efcdd58",
   "metadata": {},
   "outputs": [],
   "source": [
    "t_is_alive.set()"
   ]
  },
  {
   "cell_type": "code",
   "execution_count": 10,
   "id": "9807aebe-3497-48ea-ad73-6329b43694e5",
   "metadata": {},
   "outputs": [
    {
     "data": {
      "text/plain": [
       "True"
      ]
     },
     "execution_count": 10,
     "metadata": {},
     "output_type": "execute_result"
    }
   ],
   "source": [
    "t_is_alive.is_set()"
   ]
  },
  {
   "cell_type": "markdown",
   "id": "663d9bd1-4fee-4e05-9f7c-050be06e4c14",
   "metadata": {},
   "source": [
    "### Another sample"
   ]
  },
  {
   "cell_type": "code",
   "execution_count": 23,
   "id": "13157c43-3d84-475e-b3c9-bfd258ba07f3",
   "metadata": {},
   "outputs": [
    {
     "name": "stdout",
     "output_type": "stream",
     "text": [
      "Thread 1 started. Waiting for the signal...\n",
      "Thread 2 started. Waiting for the signal...\n"
     ]
    }
   ],
   "source": [
    "from threading import Thread, Event\n",
    "from time import sleep\n",
    "\n",
    "def task(event: Event, id: int) -> None:\n",
    "    print(f'Thread {id} started. Waiting for the signal...')\n",
    "    event.wait()\n",
    "    print(f'Received signal. The thread {id} was completed.')\n",
    "\n",
    "\n",
    "event = Event()\n",
    "t1 = Thread(target=task, args=(event, 1))\n",
    "t2 = Thread(target=task, args=(event, 2))\n",
    "t1.start()\n",
    "t2.start()\n",
    "sleep(3)  # Block the main thread for three seconds\n",
    "# event.set()  # Notify the threads to continue"
   ]
  },
  {
   "cell_type": "code",
   "execution_count": 30,
   "id": "bb1b49ac-c85d-4cef-84da-4fdb1d93dfcd",
   "metadata": {},
   "outputs": [
    {
     "data": {
      "text/plain": [
       "False"
      ]
     },
     "execution_count": 30,
     "metadata": {},
     "output_type": "execute_result"
    }
   ],
   "source": [
    "t1.is_alive()"
   ]
  },
  {
   "cell_type": "code",
   "execution_count": 31,
   "id": "33fc9ece-1169-453f-b1d1-1fa49e4e8911",
   "metadata": {},
   "outputs": [
    {
     "data": {
      "text/plain": [
       "False"
      ]
     },
     "execution_count": 31,
     "metadata": {},
     "output_type": "execute_result"
    }
   ],
   "source": [
    "t2.is_alive()"
   ]
  },
  {
   "cell_type": "code",
   "execution_count": 29,
   "id": "ffe434e5-a5f5-4e5e-9b84-98a78ae6a07a",
   "metadata": {},
   "outputs": [
    {
     "name": "stdout",
     "output_type": "stream",
     "text": [
      "Received signal. The thread 1 was completed.\n",
      "Received signal. The thread 2 was completed.\n"
     ]
    }
   ],
   "source": [
    "event.set()"
   ]
  },
  {
   "cell_type": "markdown",
   "id": "14a72177-3393-4349-aeb9-1575cc278b66",
   "metadata": {},
   "source": [
    "### Test 3"
   ]
  },
  {
   "cell_type": "code",
   "execution_count": 1,
   "id": "2858b5e1-f98c-4ba8-b616-964f3c95df98",
   "metadata": {},
   "outputs": [
    {
     "name": "stdout",
     "output_type": "stream",
     "text": [
      "Thread 1 started. Waiting for the signal...\n",
      "Thread 2 started. Waiting for the signal...\n"
     ]
    }
   ],
   "source": [
    "from threading import Thread, Event\n",
    "from time import sleep\n",
    "\n",
    "def task(event: Event, id: int) -> None:\n",
    "    print(f'Thread {id} started. Waiting for the signal...')\n",
    "    event.wait()\n",
    "    for i in range(0, 100):\n",
    "        if event.is_set():\n",
    "            print(f'Received signal. The thread {id} was completed.')\n",
    "            sleep(2)\n",
    "            event.clear()\n",
    "            event.wait()\n",
    "\n",
    "\n",
    "event1 = Event()\n",
    "event2 = Event()\n",
    "t1 = Thread(target=task, args=(event1, 1))\n",
    "t2 = Thread(target=task, args=(event2, 2))\n",
    "t1.start()\n",
    "t2.start()\n",
    "sleep(3)"
   ]
  },
  {
   "cell_type": "code",
   "execution_count": 2,
   "id": "36aac640-16cb-4133-9d6e-ad413852188e",
   "metadata": {},
   "outputs": [
    {
     "data": {
      "text/plain": [
       "True"
      ]
     },
     "execution_count": 2,
     "metadata": {},
     "output_type": "execute_result"
    }
   ],
   "source": [
    "t1.is_alive()"
   ]
  },
  {
   "cell_type": "code",
   "execution_count": 3,
   "id": "f7bf094e-d75b-4062-a3dd-f180c9fca36f",
   "metadata": {},
   "outputs": [
    {
     "data": {
      "text/plain": [
       "True"
      ]
     },
     "execution_count": 3,
     "metadata": {},
     "output_type": "execute_result"
    }
   ],
   "source": [
    "t2.is_alive()"
   ]
  },
  {
   "cell_type": "code",
   "execution_count": 4,
   "id": "8aa811bc-0988-43df-9227-30bf91a5f088",
   "metadata": {},
   "outputs": [],
   "source": [
    "# event1.set()\n",
    "# event2.set()"
   ]
  },
  {
   "cell_type": "code",
   "execution_count": 8,
   "id": "a7338f38-47c4-4cca-9afd-9f34c2710840",
   "metadata": {},
   "outputs": [
    {
     "name": "stdout",
     "output_type": "stream",
     "text": [
      "Received signal. The thread 1 was completed.\n"
     ]
    }
   ],
   "source": [
    "# After run imedietly goes to wait ==== until 100 times\n",
    "event1.set()"
   ]
  },
  {
   "cell_type": "code",
   "execution_count": null,
   "id": "6133b947-7538-4743-803d-38bd368d5dc7",
   "metadata": {},
   "outputs": [],
   "source": [
    "'cobe(smg(qbs*##k=q$q+=%4s1d2f3g6t1y4fdf=f420*ddzm*'"
   ]
  },
  {
   "cell_type": "code",
   "execution_count": null,
   "id": "703af0d8-dca2-47f5-8bf8-952f41b31233",
   "metadata": {},
   "outputs": [],
   "source": [
    "\"\"\"\n",
    "Django settings for froudPanel project.\n",
    "\n",
    "Generated by 'django-admin startproject' using Django 2.1.3.\n",
    "\n",
    "For more information on this file, see\n",
    "https://docs.djangoproject.com/en/2.1/topics/settings/\n",
    "\n",
    "For the full list of settings and their values, see\n",
    "https://docs.djangoproject.com/en/2.1/ref/settings/\n",
    "\"\"\"\n",
    "\n",
    "import os\n",
    "\n",
    "# Build paths inside the project like this: os.path.join(BASE_DIR, ...)\n",
    "BASE_DIR = os.path.dirname(os.path.dirname(os.path.abspath(__file__)))\n",
    "\n",
    "\n",
    "# Quick-start development settings - unsuitable for production\n",
    "# See https://docs.djangoproject.com/en/2.1/howto/deployment/checklist/\n",
    "\n",
    "# SECURITY WARNING: keep the secret key used in production secret!\n",
    "SECRET_KEY = 'cobe(smg(qbs*##k=q$q+=%4s1d2f3g6t1y4fdf=f420*ddzm*'\n",
    "\n",
    "# SECURITY WARNING: don't run with debug turned on in production!\n",
    "# TODO 11\n",
    "DEBUG = True\n",
    "# DEBUG = False\n",
    "\n",
    "\n",
    "ALLOWED_HOSTS = ['*']\n",
    "\n",
    "\n",
    "# Application definition\n",
    "\n",
    "INSTALLED_APPS = [\n",
    "    'app.apps.AppFroudConfig',\n",
    "    'django.contrib.admin',\n",
    "    'django.contrib.auth',\n",
    "    'django.contrib.contenttypes',\n",
    "    'django.contrib.sessions',\n",
    "    'django.contrib.messages',\n",
    "    'django.contrib.staticfiles',\n",
    "    # 'csp',\n",
    "]\n",
    "\n",
    "# pip install django-csp\n",
    "MIDDLEWARE = [\n",
    "    # 'csp.middleware.CSPMiddleware',\n",
    "    'django.middleware.security.SecurityMiddleware',\n",
    "    'django.contrib.sessions.middleware.SessionMiddleware',\n",
    "    'django.middleware.common.CommonMiddleware',\n",
    "    'django.middleware.csrf.CsrfViewMiddleware',\n",
    "    'django.contrib.auth.middleware.AuthenticationMiddleware',\n",
    "    'django.contrib.messages.middleware.MessageMiddleware',\n",
    "    'django.middleware.clickjacking.XFrameOptionsMiddleware',\n",
    "]\n",
    "\n",
    "ROOT_URLCONF = 'froudPanel.urls'\n",
    "\n",
    "TEMPLATES = [\n",
    "    {\n",
    "        'BACKEND': 'django.template.backends.django.DjangoTemplates',\n",
    "        'DIRS': [os.path.join(BASE_DIR, 'templates')]\n",
    "        ,\n",
    "        'APP_DIRS': True,\n",
    "        'OPTIONS': {\n",
    "            'context_processors': [\n",
    "                'django.template.context_processors.debug',\n",
    "                'django.template.context_processors.request',\n",
    "                'django.template.context_processors.static',\n",
    "                'django.contrib.auth.context_processors.auth',\n",
    "                'django.contrib.messages.context_processors.messages',\n",
    "            ],\n",
    "        },\n",
    "    },\n",
    "]\n",
    "\n",
    "\n",
    "WSGI_APPLICATION = 'froudPanel.wsgi.application'\n",
    "\n",
    "\n",
    "# Database\n",
    "# https://docs.djangoproject.com/en/2.1/ref/settings/#databases\n",
    "\n",
    "DATABASES = {\n",
    "    'default': {\n",
    "        'ENGINE': 'django.db.backends.mysql',\n",
    "        'NAME': 'aaa',\n",
    "        'USER': 'root',\n",
    "        'PASSWORD': 'aaa@111222',\n",
    "        'HOST': '127.0.0.1',\n",
    "        'PORT': '3306',\n",
    "    }\n",
    "}\n",
    "\n",
    "# Password validation\n",
    "# https://docs.djangoproject.com/en/2.1/ref/settings/#auth-password-validators\n",
    "\n",
    "AUTH_PASSWORD_VALIDATORS = [\n",
    "    {\n",
    "        'NAME': 'django.contrib.auth.password_validation.UserAttributeSimilarityValidator',\n",
    "    },\n",
    "    {\n",
    "        'NAME': 'django.contrib.auth.password_validation.MinimumLengthValidator',\n",
    "    },\n",
    "    {\n",
    "        'NAME': 'django.contrib.auth.password_validation.CommonPasswordValidator',\n",
    "    },\n",
    "    {\n",
    "        'NAME': 'django.contrib.auth.password_validation.NumericPasswordValidator',\n",
    "    },\n",
    "]\n",
    "\n",
    "\n",
    "# Internationalization\n",
    "# https://docs.djangoproject.com/en/2.1/topics/i18n/\n",
    "\n",
    "LANGUAGE_CODE = 'en-us'\n",
    "\n",
    "TIME_ZONE = 'Asia/Tehran'\n",
    "\n",
    "USE_I18N = True\n",
    "\n",
    "USE_L10N = True\n",
    "\n",
    "USE_TZ = True\n",
    "\n",
    "SESSION_EXPIRE_AT_BROWSER_CLOSE = False\n",
    "SESSION_COOKIE_AGE = 60 * 30\n",
    "\n",
    "\n",
    "# Static files (CSS, JavaScript, Images)\n",
    "# https://docs.djangoproject.com/en/2.1/howto/static-files/\n",
    "\n",
    "STATIC_URL = '/static/'\n",
    "# TODO: 19\n",
    "# STATIC_ROOT = os.path.join(BASE_DIR, 'static')\n",
    "# if you want to publish project, comment the following code and uncomment the above code\n",
    "# and remove some setting at the buttom of urls.py\n",
    "STATICFILES_DIRS = (os.path.join('static'), )\n",
    "\n",
    "# TODO: 13\n",
    "DEFAULT_AUTO_FIELD = 'django.db.models.AutoField'\n",
    "CSRF_TRUSTED_ORIGINS = ['http://172.16.126.25', 'http://11.1.3.50']\n",
    "\n",
    "# security_3\n",
    "# HTTP Header Content-Security-Policy (CSP)\n",
    "CSP_DEFAULT_SRC = (\"'none'\",)\n",
    "CSP_STYLE_SRC = (\"'self'\", 'fonts.googleapis.com')\n",
    "CSP_SCRIPT_SRC = (\"'self'\", \"'unsafe-inline'\")\n",
    "CSP_FONT_SRC = (\"'self'\", 'fonts.gstatic.com')\n",
    "CSP_IMG_SRC = (\"'self'\",\"data:\")\n",
    "\n",
    "# TODO: 12\n",
    "# RATELIMIT_IP_META_KEY = 'HTTP_X_FORWARDED_FOR'\n",
    "#RATELIMIT_IP_META_KEY = 'REMOTE_ADDR'\n",
    "\n",
    "\n"
   ]
  }
 ],
 "metadata": {
  "kernelspec": {
   "display_name": "Python 3 (ipykernel)",
   "language": "python",
   "name": "python3"
  },
  "language_info": {
   "codemirror_mode": {
    "name": "ipython",
    "version": 3
   },
   "file_extension": ".py",
   "mimetype": "text/x-python",
   "name": "python",
   "nbconvert_exporter": "python",
   "pygments_lexer": "ipython3",
   "version": "3.10.12"
  }
 },
 "nbformat": 4,
 "nbformat_minor": 5
}
